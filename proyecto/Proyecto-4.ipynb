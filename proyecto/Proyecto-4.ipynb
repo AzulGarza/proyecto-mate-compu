{
 "metadata": {
  "name": "",
  "signature": "sha256:c7a4f0798168e004f83a41e11e40516935861fb383e609091f0eb74ba68629ab"
 },
 "nbformat": 3,
 "nbformat_minor": 0,
 "worksheets": [
  {
   "cells": [
    {
     "cell_type": "markdown",
     "metadata": {},
     "source": [
      "Sof\u00eda Alejandra Cortes Cer\u00f3n     $145935$\n",
      "\n",
      "Mar\u00eda Jos\u00e9 Glez Borja            $142928$\n",
      "\n",
      "Yasmin Tello Correa              $145925$\n",
      "\n",
      "Federico Garza Ram\u00edrez           $143949$"
     ]
    },
    {
     "cell_type": "heading",
     "level": 1,
     "metadata": {},
     "source": [
      "El problema de los N cuerpos (4)"
     ]
    },
    {
     "cell_type": "heading",
     "level": 1,
     "metadata": {},
     "source": [
      "3. *Simulaci\u00f3n \u00e1rbol Barnes-Hut*: otra soluci\u00f3n"
     ]
    },
    {
     "cell_type": "markdown",
     "metadata": {},
     "source": [
      "El algoritmo de Barnes-Hut se encarga de acelerar la simulaci\u00f3n del movimiento de n-cuerpos. La forma en que realiza esto es formando grupos de cuerpos cercanos y los considera uno solo, si el grupo est\u00e1 lo suficientemente lejos se pueden aproximar sus efectos gravitacionales."
     ]
    },
    {
     "cell_type": "markdown",
     "metadata": {},
     "source": [
      "Para esto utilizamos el *centro de masa* de cada grupo de cuerpos, que es la posici\u00f3n promedio de un cuerpo en el grupo, medido con base en su masa."
     ]
    },
    {
     "cell_type": "markdown",
     "metadata": {},
     "source": [
      "$$\n",
      "\\mathbf\\ (x_1,y_1) \\textbf{  posici\u00f3n cuerpo 1}\n",
      "$$\n",
      "$$\n",
      "\\mathbf\\ m_1 \\textbf{  masa del cuerpo 1}\n",
      "$$\n",
      "$$\n",
      "\\mathbf\\ (x_2,y_2) \\textbf{  posici\u00f3n cuerpo 2}\n",
      "$$\n",
      "$$\n",
      "\\mathbf\\ m_2 \\textbf{  masa del cuerpo 2}\n",
      "$$"
     ]
    },
    {
     "cell_type": "markdown",
     "metadata": {},
     "source": [
      "$$\n",
      "{\\textbf{m}}=\\mathbf\\ m_1 + \\mathbf\\  m_2\n",
      "$$\n",
      "$$\n",
      "{\\textbf{x}}=(\\mathbf\\ x_1 m_1 + \\mathbf\\ x_2 m_2)/ m\n",
      "$$\n",
      "$$\n",
      "{\\textbf{y}}=(\\mathbf\\ y_1 m_1 + \\mathbf\\ y_2 m_2)/ m\n",
      "$$"
     ]
    },
    {
     "cell_type": "markdown",
     "metadata": {},
     "source": [
      "El algoritmo utiliza para almacenar el grupo de cuerpos un *Quad-tree*, que es un \u00e1rbol con cuatro nodos (o hijos) y cada nodo es una regi\u00f3n del espacio bidimensional."
     ]
    },
    {
     "cell_type": "markdown",
     "metadata": {},
     "source": [
      "La ra\u00edz del \u00e1rbol representa el espacio completo y recursivamente el espacio se va subdividiendo en cuadrantes hasta que cada subdivisi\u00f3n contenga 0 o 1 cuerpo.\n",
      "Cada nodo externo es un cuerpo y cada nodo interno es un grupo de cuerpos (en el que se almacena el centro de masa y la masa totar de todos su cuerpos)."
     ]
    },
    {
     "cell_type": "markdown",
     "metadata": {},
     "source": [
      "Para calcular la fuerza neta actuante en un cuerpo $a$ se checa que estemos en un nodo externo distinto de $a$, se calcula su fuerza en $a$ y se agrega a la fuerza neta de $a$. De otra manera se calcula la raz\u00f3n de la anchura de la regi\u00f3n y la distancia entre el cuerpo y el centro de masa. Si esta raz\u00f3n es menor al umbral $theta$ el nodo est\u00e1 lo suficientemente lejos y se considera un cuerpo, se calcula la fuerza sobre $a$ y se agrega a su fuerza neta. Si no es el caso entonces se prosigue por los hijos de forma recursiva."
     ]
    },
    {
     "cell_type": "markdown",
     "metadata": {},
     "source": [
      "La forma en que implementariamos este c\u00f3digo es en la parte de almacenamiento de las part\u00edculas y en el m\u00e9todo en que interactua la fuerza entre las part\u00edculas, ya que el m\u00e9todo se vuelve m\u00e1s eficiente computacionalmente por que no debe considerar part\u00edcula por part\u00edcula, sino que considera un grupo de part\u00edculas un s\u00f3lo cuerpo y as\u00ed los calculos se simplifican. El \u00fanico defecto es que se pierde un poco de precisi\u00f3n en los c\u00e1lculos."
     ]
    },
    {
     "cell_type": "heading",
     "level": 1,
     "metadata": {},
     "source": [
      "4. Conclusiones"
     ]
    },
    {
     "cell_type": "heading",
     "level": 2,
     "metadata": {},
     "source": [
      "4.1 En suma, \u00bfqu\u00e9 es capaz de hacer nuestro c\u00f3digo?"
     ]
    },
    {
     "cell_type": "markdown",
     "metadata": {},
     "source": [
      "**(i)** Simula, dibuja y anima la trayectoria de una part\u00edcula aislada a partir de su posici\u00f3n inicial, velocidad inicial, masa y fuerza aplicada durante cierto tiempo.\n",
      "\n",
      "**(ii)** Simula, dibuja y anima la trayectoria de una part\u00edcula aislada que recibe diversas fuerzas en diversos tiempos.\n",
      "\n",
      "**(iii)** Calcula la distancia y la fuerza gravitacional entre dos part\u00edculas.\n",
      "\n",
      "**(iv)** Simula, dibuja y anima el comportamiento de $N$ part\u00edculas conociendo de todas ellas su posici\u00f3n inicial, velocidad inicial y masa.\n",
      "\n",
      "**(v)** Establece l\u00edmites f\u00edsicos de diferentes maneras a las trayectorias de las part\u00edculas.\n",
      "\n",
      "**(vi)** Simula de diversas formas las colisiones entre las part\u00edculas."
     ]
    },
    {
     "cell_type": "heading",
     "level": 2,
     "metadata": {},
     "source": [
      "4.2 \u00bfQu\u00e9 limitaciones tiene nuestro c\u00f3digo?"
     ]
    },
    {
     "cell_type": "markdown",
     "metadata": {},
     "source": [
      "**(i)** El poder de c\u00f3mputo limitado que no pemite hacer simulaciones m\u00e1s apegadas a la realidad.\n",
      "\n",
      "**(ii)** Un tipo de l\u00edmite a las trayectorias de las part\u00edculas \u00fanicamente las aleja, lo que es incorrecto.\n",
      "\n",
      "**(iii)** Las gr\u00e1ficas del universo no permiten ver las posiciones finales e iniciales de las part\u00edculas.\n",
      "\n",
      "**(iv)** El empleo de listas hace m\u00e1s lento el tiempo de simulaci\u00f3n."
     ]
    },
    {
     "cell_type": "heading",
     "level": 2,
     "metadata": {},
     "source": [
      "4.2 En general..."
     ]
    },
    {
     "cell_type": "markdown",
     "metadata": {},
     "source": [
      "En conclusi\u00f3n consideramos que nuestra aproximaci\u00f3n num\u00e9rica al problema de los $N$ cuerpos es buena; no obstante, quiz\u00e1 con mayor poder de c\u00f3mputo para evitar errores y hacer el $dt$ a\u00fan m\u00e1s chico se consiga una mejor aproximaci\u00f3n."
     ]
    },
    {
     "cell_type": "markdown",
     "metadata": {},
     "source": [
      "**Esto es todo.** Gracias, prof., por un excelente curso. "
     ]
    }
   ],
   "metadata": {}
  }
 ]
}