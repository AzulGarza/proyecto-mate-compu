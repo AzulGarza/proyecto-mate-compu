{
 "metadata": {
  "name": "",
  "signature": "sha256:ef64a6962316e4d1ccfbd2175e4ce3fcc0c00a2324594bd8fb6c5b0dd643026b"
 },
 "nbformat": 3,
 "nbformat_minor": 0,
 "worksheets": [
  {
   "cells": [
    {
     "cell_type": "heading",
     "level": 1,
     "metadata": {},
     "source": [
      "                                                            ITAM"
     ]
    },
    {
     "cell_type": "markdown",
     "metadata": {},
     "source": [
      "Federico Garza Ram\u00edrez           000143949\n",
      "\n",
      "Sof\u00eda Alejandra Cortes Cer\u00f3n     000145935\n",
      "\n",
      "Mar\u00eda Jos\u00e9 Glez Borja            000142928\n",
      "\n",
      "Yasmin Tello Correa              000145925"
     ]
    },
    {
     "cell_type": "heading",
     "level": 2,
     "metadata": {},
     "source": [
      "1. Introducci\u00f3n"
     ]
    },
    {
     "cell_type": "markdown",
     "metadata": {},
     "source": [
      " El problema de N-Cuerpos fue planteado por Isaac Newton (1687) en su libro \u201cPrincipios matem\u00e1ticos de la filosof\u00eda natural\u201d . La finalidad de este problema es modelar el movimiento de N part\u00edculas, movidas por fuerzas gravitacionales mediante ecuaciones diferenciales ordinarias no lineales. Para dos cuerpos es f\u00e1cil predecir su posici\u00f3n y velocidad en cualquier instante, mientras que para 3 o mas cuerpos el sistema no es soluble anal\u00edticamente. Newton descubri\u00f3 que la trayectoria de un cuerpo, sujeto a una fuerza central var\u00eda como el inverso cuadrado de la distancia. (formula 1) \u00c9ste es un problema cl\u00e1sico de la mec\u00e1nica celeste y la astronom\u00eda. El Sistema Solar es un ejemplo cl\u00e1sico donde el cambio de posici\u00f3n de los planetas al moverse alrededor del Sol resulta en una variaci\u00f3n de la fuerza ejercida sobre alguno de sus miembros. El desarrollo de las computadoras en la segunda mitad de este siglo ha tenido un impacto profundo en el problema de N-cuerpos tanto en el uso de programas con \u00e1lgebra simb\u00f3lica, como en la soluci\u00f3n a trav\u00e9s de simulaciones num\u00e9ricas."
     ]
    },
    {
     "cell_type": "code",
     "collapsed": false,
     "input": [],
     "language": "python",
     "metadata": {},
     "outputs": []
    },
    {
     "cell_type": "heading",
     "level": 1,
     "metadata": {},
     "source": [
      "Simulaci\u00f3n \u00c1rbol Barnes-Hut"
     ]
    },
    {
     "cell_type": "markdown",
     "metadata": {},
     "source": [
      "El algoritmo de Barnes-Hut se encarga de acelerar la simulaci\u00f3n del movimiento de n-cuerpos. La forma en que realiza esto es formando grupos de cuerpos cercanos y los considera uno solo, si el grupo est\u00e1 lo suficientemente lejos se pueden aproximar sus efectos gravitacionales."
     ]
    },
    {
     "cell_type": "markdown",
     "metadata": {},
     "source": [
      "Para esto utilizamos el \"centro de masa\" de cada grupo de cuerpos, que es la posici\u00f3n promedio de un cuerpo en el grupo, medido con base en su masa.\n"
     ]
    },
    {
     "cell_type": "markdown",
     "metadata": {},
     "source": [
      "$$\n",
      "\\mathbf\\ (x_1,y_1) \\textbf{  posici\u00f3n cuerpo 1}\n",
      "$$\n",
      "$$\n",
      "\\mathbf\\ m_1 \\textbf{  masa del cuerpo 1}\n",
      "$$\n",
      "$$\n",
      "\\mathbf\\ (x_2,y_2) \\textbf{  posici\u00f3n cuerpo 2}\n",
      "$$\n",
      "$$\n",
      "\\mathbf\\ m_2 \\textbf{  masa del cuerpo 2}\n",
      "$$"
     ]
    },
    {
     "cell_type": "markdown",
     "metadata": {},
     "source": [
      "$$\n",
      "{\\textbf{m}}=\\mathbf\\ m_1 + \\mathbf\\  m_2\n",
      "$$\n",
      "$$\n",
      "{\\textbf{x}}=(\\mathbf\\ x_1 m_1 + \\mathbf\\ x_2 m_2)/ m\n",
      "$$\n",
      "$$\n",
      "{\\textbf{y}}=(\\mathbf\\ y_1 m_1 + \\mathbf\\ y_2 m_2)/ m\n",
      "$$"
     ]
    },
    {
     "cell_type": "markdown",
     "metadata": {},
     "source": [
      "El algoritmo utiliza para almacenar el grupo de cuerpos un Quad-tree, que es un \u00e1rbol con cuatro nodos (o hijos) y cada nodo es una regi\u00f3n del espacio bidimensional."
     ]
    },
    {
     "cell_type": "markdown",
     "metadata": {},
     "source": [
      "La ra\u00edz del \u00e1rbol representa el espacio completo y recursivamente el espacio se va subdividiendo en cuadrantes hasta que cada subdivisi\u00f3n contenga 0 o 1 cuerpo.\n",
      "Cada nodo externo es un cuerpo y cada nodo interno es un grupo de cuerpos (en el que se almacena el centro de masa y la masa totar de todos su cuerpos)."
     ]
    },
    {
     "cell_type": "markdown",
     "metadata": {},
     "source": [
      "Para calcular la fuerza neta actuante en un cuerpo \"a\" se checa que estemos en un nodo externo distinto de \"a\", se calcula su fuerza en \"a\" y se agrega a la fuerza neta de \"a\". De otra manera se calcula la raz\u00f3n de la anchura de la regi\u00f3n y la distancia entre el cuerpo y el centro de masa. Si esta raz\u00f3n es menor al umbral \"theta\" el nodo est\u00e1 lo suficientemente lejos y se considera un cuerpo, se calcula la fuerza sobre \"a\" y se agrega a su fuerza neta. Si no es el caso entonces se prosigue por los hijos de forma recursiva."
     ]
    },
    {
     "cell_type": "markdown",
     "metadata": {},
     "source": [
      "    "
     ]
    },
    {
     "cell_type": "markdown",
     "metadata": {},
     "source": [
      "     "
     ]
    },
    {
     "cell_type": "markdown",
     "metadata": {},
     "source": [
      "La forma en que implementariamos este c\u00f3digo es en la parte de almacenamiento de las part\u00edculas y en el m\u00e9todo en que interactua la fuerza entre las part\u00edculas, ya que el m\u00e9todo se vuelve m\u00e1s eficiente computacionalmente por que no debe considerar part\u00edcula por part\u00edcula, sino que considera un grupo de part\u00edculas un s\u00f3lo cuerpo y as\u00ed los calculos se simplifican. El \u00fanico defecto es que se pierde un poco de precisi\u00f3n en los c\u00e1lculos."
     ]
    },
    {
     "cell_type": "code",
     "collapsed": false,
     "input": [],
     "language": "python",
     "metadata": {},
     "outputs": []
    }
   ],
   "metadata": {}
  }
 ]
}